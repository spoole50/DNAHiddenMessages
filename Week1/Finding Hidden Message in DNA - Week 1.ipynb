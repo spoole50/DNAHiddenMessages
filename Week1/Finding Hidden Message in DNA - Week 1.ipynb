{
 "cells": [
  {
   "cell_type": "markdown",
   "metadata": {},
   "source": [
    "# Finding Hidden Messages in DNA\n",
    "## Week 1\n",
    "\n",
    "* Within a genome replication begins at the replication origin (ori) and is carried out by DNA polymerases.<br/>\n",
    "* Replication initiation mediated by DnaA protein that binds to a short segment known as DnaA box.\n",
    "\n",
    "    * How might we detect DnaA boxes in the ori regions?\n",
    "    * We should expect to find an enrichment of DnaA sequences as well as its reverse compliment within the ori region\n",
    "    * Start by identifying enriched k-mers within a region\n",
    "    * K-mer is a string of k length and the count would be count(text, pattern)"
   ]
  },
  {
   "cell_type": "code",
   "execution_count": 1,
   "metadata": {},
   "outputs": [],
   "source": [
    "def PatternCount(text, pattern):\n",
    "    '''\n",
    "    Count how many times a pattern appears in a given text.\n",
    "    \n",
    "    Args:\n",
    "        text (string): The text to search through.\n",
    "        pattern (string): The pattern to count within text.\n",
    "        \n",
    "    Returns:\n",
    "        int: Number of times pattern appears in text.\n",
    "    '''\n",
    "    count = 0\n",
    "    for i in range(len(text) - len(pattern) + 1):\n",
    "        if text[i:i + len(pattern)] == pattern:\n",
    "            count += 1\n",
    "    return count"
   ]
  },
  {
   "cell_type": "code",
   "execution_count": 2,
   "metadata": {},
   "outputs": [
    {
     "name": "stdout",
     "output_type": "stream",
     "text": [
      "Sequence: GCTCGGCGCCTAGGGAGCTCGGCCCAAGCTCGGCGGCTCGGCAGCTCGGCTTGCTCGGCTGTTGGGCTCGGCGCATTGTGCTCGGCAGCTCGGCGCTCGGCACTTAACATGGGGGCTCGGCCACTCGCTCGGCCAGCATAGCTCGGCTCGCCGCTCGGCAATGCTCGGCTACGACGCTCGGCGCTCGGCTGGCCGCTCGGCTAGGCTCGGCAGCTCGGCACTATCGCTCGGCAGCTTGGCGCTCGGCCTCTGATCCCGCTCGGCTGCTCGGCGCAGGCTCGGCCGCTCGGCGGCTCGGCTACAAGGGCTCGGCGGCTCGGCGCACGCTCGGCGGCTCGGCGCTCGGCCGCATTTCTGCGGGACGCTCGGCATTCGCTCGGCGCTCGGCGCTCGGCGTCGCTCGGCCGCGCTCGGCTCTTGCAGGCTCGGCCACCGCTCGGCGCTCGGCGACGCTCGGCCGCTCGGCCTCGCTCGGCAGGCTCGGCCGAGGCTCGGCCGCTCGGCGGCTCGGCTAGCTAGCTCGGCACTGGAGGCGCGGGTGCTCGGCCTGGCTCGGCAAGGCTCGGCGAGCTCGGCGGGCTCGGCGCTCGGCGGCTCGGCCGCTCGGCGCTCGGCCGAAGGCTCGGCGCGCTCGGCGTGCGCTCGGCGCTCGGCTAGGCTCGGCTGCTCGGCCGCTCGGCGCCTAAAACGAGCTCGGCCGGCTCGGCAGGCTCGGCGCTCGGCGCTCGGCGACCCGCTCGGCACAGGTGAAGTCTGCTCGGCCCGCTCGGCCCATTGCCCCCGCACGCTCGGCGCTCGGCCCCATTTAGAACTGCTCGGCTGTGACAGTGCTCGGCGGCTCGGCCGGGCTCGGCGCTCGGCGCTCGGCCGCCCCCACTGGCTCGGCGTGGCTCGGCGAATAGCTCGGCCGCTCGGCACGCTCGGCCGCTCGGCTGCTCGGCTGCTCGGCCCAGCTCGGCCATGGCTCGGCTTGCTCGGCAAGCTCGGCCGCTCGGCTGCTCGGC\n",
      "Pattern: GCTCGGCGC\n",
      "Count: 20\n"
     ]
    }
   ],
   "source": [
    "# Test/Run PatternCount Function\n",
    "with open('./Data/dataset_2_7.txt') as inFile:\n",
    "    data = inFile.readlines()\n",
    "text = data[0].strip()\n",
    "pattern = data[1].strip()\n",
    "\n",
    "print(f\"Sequence: {text}\\nPattern: {pattern}\\nCount: {PatternCount(text, pattern)}\")"
   ]
  },
  {
   "cell_type": "markdown",
   "metadata": {},
   "source": [
    "Now that k-mers can be identified/counted we want to find which k-mers appear most frequently within a given sequence.\n",
    "* We can say that Pattern is a most frequent k-mer if it has the highest \"Count(Text, Pattern)\" among all k-mers"
   ]
  },
  {
   "cell_type": "code",
   "execution_count": 19,
   "metadata": {},
   "outputs": [],
   "source": [
    "def FrequentWords(text, k, ret_max=True):\n",
    "    '''\n",
    "    Find the most frequently occuring k-mer(s) in text.\n",
    "    \n",
    "    Args:\n",
    "        text (string): Text to search through.\n",
    "        k (int): k-mer length to find within text.\n",
    "        ret_max (bool, optional): Return Max, defaults to true;\n",
    "            When True returns only the max k-mer(s).\n",
    "            When False returns all k-mers and thier respective counts.\n",
    "            \n",
    "    Returns:\n",
    "        Depending on the ret_max paramter either:\n",
    "            (list[strings]): maximal occuring k-mer(s) or the\n",
    "            (dict{'string': int}): entire dictionary of k-mers and respective counts.\n",
    "    '''\n",
    "    patterns = dict()\n",
    "    for i in range(len(text) - k + 1):\n",
    "        kmer = text[i:i + k]\n",
    "        if kmer not in patterns:\n",
    "            patterns[kmer] = 1\n",
    "        else:\n",
    "            patterns[kmer] += 1\n",
    "    if ret_max == False:\n",
    "        return patterns\n",
    "    else:\n",
    "        res = []\n",
    "        mx_count = max(patterns.values())\n",
    "        for kmer in patterns:\n",
    "            if patterns[kmer] == mx_count:\n",
    "                res.append(kmer)\n",
    "        return res"
   ]
  },
  {
   "cell_type": "code",
   "execution_count": 20,
   "metadata": {},
   "outputs": [
    {
     "name": "stdout",
     "output_type": "stream",
     "text": [
      "['GCAT', 'CATG']\n",
      "Wall time: 0 ns\n"
     ]
    }
   ],
   "source": [
    "%%time\n",
    "#Test/Run FrequentWords Function\n",
    "\n",
    "# print(*FrequentWords(\"CGCCTAAATAGCCTCGCGGAGCCTTATGTCATACTCGTCCT\", 3))\n",
    "print(FrequentWords(\"ACGTTGCATGTCGCATGATGCATGAGAGCT\", 4))\n",
    "# with open(\"./Data/dataset_2_10.txt\") as inFile:\n",
    "#     data = inFile.readlines()\n",
    "    \n",
    "# text = data[0].strip()\n",
    "# k = int(data[1].strip())\n",
    "    \n",
    "# print(f\"K-Mer Length: {k}\\nMost frequent k-mers in text: {FrequentWords(text, k)}\\n\")"
   ]
  },
  {
   "cell_type": "markdown",
   "metadata": {},
   "source": [
    "DnaA boxes that occur frequently in the ori region also have the reverse compliment appear often in the reverse strand."
   ]
  },
  {
   "cell_type": "code",
   "execution_count": 9,
   "metadata": {},
   "outputs": [],
   "source": [
    "def revComp(pattern):\n",
    "    '''\n",
    "    Generate the reverse compliment DNA sequence for a given sequence.\n",
    "    \n",
    "    Args:\n",
    "        pattern (string): Input DNA sequence.\n",
    "        \n",
    "    Returns:\n",
    "        string: Reverse complimetnary DNA sequence to input pattern.\n",
    "    '''\n",
    "    codon = {'A': 'T',\n",
    "             'T': 'A',\n",
    "             'G': 'C',\n",
    "             'C': 'G'}\n",
    "    return ''.join(codon[x] for x in pattern[::-1])   "
   ]
  },
  {
   "cell_type": "code",
   "execution_count": 10,
   "metadata": {},
   "outputs": [
    {
     "name": "stdout",
     "output_type": "stream",
     "text": [
      "Sequence:AAAACCCGGT\n",
      "Reverse Compliment:ACCGGGTTTT\n"
     ]
    }
   ],
   "source": [
    "# Test/Run revComp Function\n",
    "seq = \"AAAACCCGGT\"\n",
    "print(f\"Sequence:{seq}\\nReverse Compliment:{revComp(seq)}\")"
   ]
  },
  {
   "cell_type": "markdown",
   "metadata": {},
   "source": [
    "Given a pattern, identify each position in the genome in which it appears"
   ]
  },
  {
   "cell_type": "code",
   "execution_count": 11,
   "metadata": {},
   "outputs": [],
   "source": [
    "def patternMatch(pattern, genome):\n",
    "    '''\n",
    "    Find every starting index of pattern within a genome.\n",
    "    \n",
    "    Args:\n",
    "        pattern (string): Pattern to find starting index of\n",
    "            each instance within genome.\n",
    "        genome (string): Text to search through to find pattern\n",
    "        \n",
    "    Returns:\n",
    "        list[int]: List of integergs of all starting positions of\n",
    "            pattern within genome.\n",
    "    '''\n",
    "    res = []\n",
    "    for i in range(len(genome) - len(pattern) + 1):\n",
    "        if genome[i:i + len(pattern)] == pattern:\n",
    "            res.append(i)\n",
    "    return res"
   ]
  },
  {
   "cell_type": "code",
   "execution_count": 14,
   "metadata": {},
   "outputs": [
    {
     "name": "stdout",
     "output_type": "stream",
     "text": [
      "Pattern: ATAT\n",
      "Genome: GATATATGCATATACTT\n",
      "Starting Pos: (1, 3, 9)\n"
     ]
    }
   ],
   "source": [
    "# Test/Run patternMatch function\n",
    "\n",
    "pat = 'ATAT'\n",
    "geno = 'GATATATGCATATACTT'\n",
    "print(f\"Pattern: {pat}\\nGenome: {geno}\\nStarting Pos: {*patternMatch(pat, geno),}\")\n",
    "\n",
    "# with open(\"./Data/dataset_3_5.txt\") as inFile:\n",
    "#     data = inFile.readlines()\n",
    "    \n",
    "# pattern = data[0].strip()\n",
    "# genome = data[1].strip()\n",
    "# print(*patternMatch(pattern, genome))\n",
    "\n",
    "# with open(\"./Data/Vibrio_cholerae.txt\") as inFile:\n",
    "#     data = inFile.readlines()\n",
    "\n",
    "# pattern = \"CTTGATCAT\"\n",
    "# genome = data[0].strip()\n",
    "# print(f\"Pattern: {pattern}\\nPattern Start Positions in Genome:\\n{*patternMatch(pattern, genome),}\")"
   ]
  },
  {
   "cell_type": "markdown",
   "metadata": {},
   "source": [
    "Now imagine we have a new DNA sequence in which we do not know the ori sequence. How can we find sequences that are possible DnaA boxes<br/>\n",
    "Search the genome breaking it into windows and see if a kmer is enriched in any given window along the genome.<br/>\n",
    "This could help identify possible DnaA boxes (frequent kmers) within possible ori regions (windows)"
   ]
  },
  {
   "cell_type": "code",
   "execution_count": 23,
   "metadata": {},
   "outputs": [],
   "source": [
    "def checkWindow(cords, L, t, gLen):\n",
    "    '''\n",
    "    Helper function for clumpFind.\n",
    "    Determines from the coordinates of a k-clump if it appears at least\n",
    "    t times within an L window in genome.\n",
    "    \n",
    "    Args:\n",
    "        coords (list[(tuples)]): List of tuples representing the (start, end) cordinates\n",
    "            for a possible k-clump.\n",
    "        L (int): Length of window to search.\n",
    "        t (int): Minimum number of occurrences of a clump within a window to be\n",
    "            regarded as significant.\n",
    "        gLen (int): Length of the total genome.\n",
    "        \n",
    "    Returns:\n",
    "        True if there are at least t instances within any given L window of the genome.\n",
    "            False otherwise.\n",
    "    '''\n",
    "    for i in range(len(cords)):\n",
    "        tmp = 1\n",
    "        start = cords[i][0]\n",
    "        while i + 1 < len(cords) and cords[i + 1][1] <= start + L:\n",
    "            tmp += 1\n",
    "            i += 1\n",
    "        if tmp >= t:\n",
    "            return True\n",
    "    return False\n",
    "\n",
    "def clumpFind(genome, k, L, t):\n",
    "    '''\n",
    "    Find all patterns forming clumps in a string.\n",
    "    \n",
    "    Args:\n",
    "        genome (string): The text to search through for clumps.\n",
    "        k (int): Length of clump to search genome for.\n",
    "        L (int): Length of window within genome to search for clumps.\n",
    "        t (int): Minimum number of k length clumps within any L window\n",
    "            of genome for the clump to be significant.\n",
    "        \n",
    "    Returns:\n",
    "        list[strings]: All distinct k-mers forming at least t clumps\n",
    "            within any given L window of genome.\n",
    "    '''\n",
    "    allKs = []\n",
    "    kmerDict = dict()\n",
    "    for i in range(len(genome) - k + 1):\n",
    "        kmer = genome[i:i + k]\n",
    "        if kmer not in kmerDict:\n",
    "            kmerDict[kmer] = [(i, i + k)]\n",
    "        else:\n",
    "            kmerDict[kmer].append((i, i + k))\n",
    "    \n",
    "    for kmer in kmerDict:\n",
    "        if len(kmerDict[kmer]) >= t:\n",
    "            if checkWindow(kmerDict[kmer], L, t, len(genome)):\n",
    "                allKs.append(kmer)\n",
    "    return allKs"
   ]
  },
  {
   "cell_type": "code",
   "execution_count": 24,
   "metadata": {},
   "outputs": [
    {
     "name": "stdout",
     "output_type": "stream",
     "text": [
      "Wall time: 0 ns\n"
     ]
    },
    {
     "data": {
      "text/plain": [
       "['CGACA', 'GAAGA']"
      ]
     },
     "execution_count": 24,
     "metadata": {},
     "output_type": "execute_result"
    }
   ],
   "source": [
    "%%time\n",
    "# test/run clumpFind function\n",
    "\n",
    "clumpFind(\"CGGACTCGACAGATGTGAAGAACGACAATGTGAAGACTCGACACGACAGAGTGAAGAGAAGAGGAAACATTGTAA\", 5, 50, 4)\n",
    "# with open(\"./Data/E_coli.txt\") as inFile:\n",
    "#     data = inFile.readlines()\n",
    "\n",
    "# clumpFind(data[0].strip(), 9, 500, 3)"
   ]
  },
  {
   "cell_type": "markdown",
   "metadata": {},
   "source": [
    "To speed up performance of the FrequentWords algorithm we can construct a **frequency array**. Defined as an array of length $4^k$ where the i-th element is the number of times that the i-th k-mer appears in Text. In order not only create the frequency array but get useful information from it we need to be able to convert from a pattern to a number and vice versa.\n",
    "\n",
    "Example:\n",
    "FrequencyArray(AAGCAAAGGTGGG, 2)\n",
    "<img src=\"./img/frequency_array.png\" width=\"650\">"
   ]
  },
  {
   "cell_type": "code",
   "execution_count": 1,
   "metadata": {},
   "outputs": [],
   "source": [
    "def symToNum(symbol):\n",
    "    '''Convert symbol (nucleotide) to integer.'''\n",
    "    symMap = {'A': 0,\n",
    "              'C': 1,\n",
    "              'G': 2,\n",
    "              'T': 3}\n",
    "    return symMap[symbol]\n",
    "\n",
    "def numToSym(num):\n",
    "    '''Convert integer to cooresponding symbol (nucleotide)'''\n",
    "    numMap = {0: 'A',\n",
    "              1: 'C',\n",
    "              2: 'G',\n",
    "              3: 'T'}\n",
    "    return numMap[num]\n",
    "\n",
    "def numToPat(index, k):\n",
    "    '''\n",
    "    Convert a number into its representative pattern.\n",
    "    \n",
    "    Args:\n",
    "        index (int): Pattern encoded in an integer. \n",
    "        k (int): length of target pattern\n",
    "        \n",
    "    Returns:\n",
    "        string: \n",
    "    '''\n",
    "    if k == 1:\n",
    "        return numToSym(index)\n",
    "    pfixIndex = int(index / 4)\n",
    "    r = index % 4\n",
    "    sym = numToSym(r)\n",
    "    pfixPattern = numToPat(pfixIndex, k - 1)\n",
    "    return pfixPattern + sym\n",
    "\n",
    "def patToNum(pattern):\n",
    "    '''\n",
    "    Convert a pattern to an encoded integer.\n",
    "    \n",
    "    Args:\n",
    "        pattern (string): DNA string.\n",
    "        \n",
    "    Returns:\n",
    "        int: Integer conversion of pattern.\n",
    "    '''\n",
    "    if not pattern:\n",
    "        return 0\n",
    "    symbol = pattern[-1]\n",
    "    prefix = pattern[:-1]\n",
    "    return 4 * patToNum(prefix) + symToNum(symbol)\n",
    "\n",
    "def computeFreq(text, k):\n",
    "    '''\n",
    "    For a given sequence generate the coorespodning k-mer frequency array.\n",
    "    \n",
    "    Args:\n",
    "        text (string): DNA string.\n",
    "        k (int): target k-mer length to compute frequency for.\n",
    "        \n",
    "    Returns:\n",
    "        list[int]: Coorespoding FrequencyArray of text.\n",
    "    '''\n",
    "    freq = [0] * (4 ** k)\n",
    "    for i in range(len(text) - k + 1):\n",
    "        pat = text[i:i + k]\n",
    "        j = patToNum(pat)\n",
    "        freq[j] += 1\n",
    "    return freq"
   ]
  },
  {
   "cell_type": "code",
   "execution_count": 6,
   "metadata": {},
   "outputs": [
    {
     "name": "stdout",
     "output_type": "stream",
     "text": [
      "3 0 2 0 1 0 0 0 0 1 3 1 0 0 1 0\n"
     ]
    }
   ],
   "source": [
    "# test/run FrequencyArray function\n",
    "\n",
    "print(*computeFreq(\"AAGCAAAGGTGGG\", 2))\n",
    "\n",
    "# with open(\"./Data/dataset_2994_5.txt\") as inFile:\n",
    "#     data = inFile.readlines()\n",
    "\n",
    "# print(*computeFreq(data[0].strip(), int(data[1].strip())), sep='')"
   ]
  }
 ],
 "metadata": {
  "kernelspec": {
   "display_name": "Python 3",
   "language": "python",
   "name": "python3"
  },
  "language_info": {
   "codemirror_mode": {
    "name": "ipython",
    "version": 3
   },
   "file_extension": ".py",
   "mimetype": "text/x-python",
   "name": "python",
   "nbconvert_exporter": "python",
   "pygments_lexer": "ipython3",
   "version": "3.7.7"
  }
 },
 "nbformat": 4,
 "nbformat_minor": 4
}
