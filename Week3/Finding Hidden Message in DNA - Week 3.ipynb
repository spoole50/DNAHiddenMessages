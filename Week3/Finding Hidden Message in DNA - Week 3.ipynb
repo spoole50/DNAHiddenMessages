{
 "cells": [
  {
   "cell_type": "markdown",
   "metadata": {},
   "source": [
    "# Finding Hidden Message in DNA\n",
    "## Week3\n",
    "\n",
    "**\"Clock\" Gene**\n",
    "\n",
    "Circadian clock controls daily schedules of animals, plants, and even bacteria. Today many genes have been discovered that play a role in regulating circadian rhythm.\n",
    "\n",
    "First we will focus on plants, as circadian clock is a matter of life or death. Estimates on plant circadian genes are over a thousand, related to photosynthesis, photo reception, and flowering. Every plant cell keeps track of day/night independently of other cells. Genes LHY, CCA1, and TOC1 are the master time keeping regulatory genes and the regulatory proteins they encode are often controlled by external factors (nutrients, sunlight, etc). These regulatory proteins are **transcription factors** that inhibit or promotes expression of genes. A transcription factor bind to a specific short DNA interval called a **regulatory motif or transcription factor binding site** in the genes upstream region (600-1000bp).\n",
    "\n",
    "Since these regulatory motifs are not completely conserved how can we locate them without knowing what they look like in advance?\n",
    "* We could utilize the Frequent word with mismatches algorithm used in week 2, however this was aimed at shorter k-mers with fewer mismatches. Plus finding a DnaA box which is a pattern that appears frequently in a relatively short interval of the genome, whereas a regulatory motif is a pattern that appears at least once (with possible variation) in many different regions scattered throughout the genome."
   ]
  },
  {
   "cell_type": "code",
   "execution_count": 2,
   "metadata": {},
   "outputs": [],
   "source": [
    "# Helper Functions\n",
    "def symToNum(symbol):\n",
    "    symMap = {'A': 0,\n",
    "              'C': 1,\n",
    "              'G': 2,\n",
    "              'T': 3}\n",
    "    return symMap[symbol]\n",
    "\n",
    "def numToSym(num):\n",
    "    numMap = {0: 'A',\n",
    "              1: 'C',\n",
    "              2: 'G',\n",
    "              3: 'T'}\n",
    "    return numMap[num]\n",
    "\n",
    "def numToPat(index, k):\n",
    "    if k == 1:\n",
    "        return numToSym(index)\n",
    "    pfixIndex = int(index / 4)\n",
    "    r = index % 4\n",
    "    sym = numToSym(r)\n",
    "    pfixPattern = numToPat(pfixIndex, k - 1)\n",
    "    return pfixPattern + sym\n",
    "\n",
    "def patToNum(pattern):\n",
    "    if not pattern:\n",
    "        return 0\n",
    "    symbol = pattern[-1]\n",
    "    prefix = pattern[:-1]\n",
    "    return 4 * patToNum(prefix) + symToNum(symbol)\n",
    "\n",
    "def hammDist(seq1, seq2, d=-1):\n",
    "    dist = 0\n",
    "    if len(seq1) != len(seq2):\n",
    "        return -1\n",
    "    for i in range(len(seq1)):\n",
    "        if seq1[i] != seq2[i]:\n",
    "            dist += 1\n",
    "        if d != -1 and dist > d:\n",
    "            return -1\n",
    "    return dist\n",
    "\n",
    "def neighbors(pattern, d):\n",
    "    nucleos = {'A', 'C', 'G', 'T'}\n",
    "    if d == 0: # if we want an exact match (d=0, no mismatches allowed) just return the pattern\n",
    "        return pattern\n",
    "    if len(pattern) == 1: # if the pattern is just a single nucleotide return the nucleotide set\n",
    "        return nucleos\n",
    "    hood = set()\n",
    "    sufNeighbors = neighbors(pattern[1:], d) # Calculate all neighbors of the pattern suffix\n",
    "    for neighbor in sufNeighbors:\n",
    "        if hammDist(pattern[1:], neighbor) < d:\n",
    "            for nucleotide in nucleos:\n",
    "                hood.add(nucleotide + neighbor)\n",
    "        else:\n",
    "            hood.add(pattern[:1] + neighbor)\n",
    "    return hood"
   ]
  },
  {
   "cell_type": "code",
   "execution_count": 8,
   "metadata": {},
   "outputs": [
    {
     "name": "stdout",
     "output_type": "stream",
     "text": [
      "GCCGG GGCTG GGAGG TGGCG AGGCG GGGCG GGCAG CGGCG GGCGC GGCGG CGCGG GGCCG\n"
     ]
    }
   ],
   "source": [
    "# Brute Force (Exhaustive) Motif Enumeration\n",
    "# Inputs: Collection of strings Dna, integers k and d\n",
    "# Output: All (k, d)-motifs in Dna\n",
    "\n",
    "def motifEnumeration(Dna, k, d):\n",
    "    patterns = set()\n",
    "    for i in range(len(Dna[0]) - k + 1): # Go through each possible k-mer in the first DNA sequence\n",
    "        kmer = Dna[0][i:i+k]\n",
    "        hood = neighbors(kmer, d) #Calculate all the neighbors\n",
    "        for candidate in hood:\n",
    "            check = 0\n",
    "            for seq in Dna:\n",
    "                check = 0\n",
    "                for i in range(len(seq) - k + 1):\n",
    "                    tk = seq[i:i+k]\n",
    "                    if hammDist(tk, candidate, d) > -1:\n",
    "                        check = 1\n",
    "                        break\n",
    "                if check != 1:\n",
    "                    break\n",
    "            if check:\n",
    "                patterns.add(candidate)\n",
    "    return patterns\n",
    "              \n",
    "# test = ['ATTTGGC', 'TGCCTTA', 'CGGTATC', 'GAAAATT']\n",
    "# print(motifEnumeration(test, 3, 1))\n",
    "\n",
    "with open(\"./Data/dataset_156_8.txt\") as inFile:\n",
    "    data = inFile.readlines()\n",
    "\n",
    "params = data[0].strip().split(' ')\n",
    "dna = []\n",
    "for i in range(1, len(data)):\n",
    "    dna.append(data[i].strip())\n",
    "    \n",
    "print(*motifEnumeration(dna, int(params[0]), int(params[1])))"
   ]
  },
  {
   "cell_type": "markdown",
   "metadata": {},
   "source": [
    "Think about the run time of the brute force algorithm:\n",
    "1. Runs through each kmer of the first DNA seq in the collection (len(seq) - k + 1)\n",
    "2. Calculates all neighbors for the kmer\n",
    "3. For each neighbor, examine all kmers of each subsequent DNA seq in the collection and see if there is a match within d distance.\n",
    "\n",
    "$O(n^t \\times k \\times t)$ Needless to say this algorithm would not scale well at all for larger values of k or d\n",
    "\n",
    "What can we do differently?\n",
    "\n",
    "**Scoring Motifs**\n",
    "\n",
    "* Consider a list of t DNA strings(Dna), where each string has length n, and select a k-mer from each string to form a collection Motifs.\n",
    "\n",
    "\n",
    "1. Score(Motifs) => # of unpopular (non-consensus) letters in a column of the motif matrix\n",
    "2. Count(Motifs) => Construct the 4 x k count matrix. Count the number of occurrences of each nucleotide in each column of the motif matrix\n",
    "3. Profile(Motifs) => Divide each element of the count matrix by t\n",
    "4. Generate a consensus string from the most popular letter in each column of the motif matrix\n",
    "\n",
    "<img src=http://bioinformaticsalgorithms.com/images/Motifs/motifs_score_count_profile_consensus.png width=\"500\">\n",
    "\n",
    "How is conservation accounted for? Think about column 2 (6C, 2A, 2T) and column 12 (6C, and 4T). They both contribute 4 to Score, does this make sense biologically?\n",
    "* No, nucleotides with frequencies exceeding 0.4 should be weighted differently. In the example column 12 is \"more conserved\"\n",
    "\n",
    "Every column of the profile matrix corresponds to a probability distribution (collection of non-negative numbers that sum to 1).\n",
    "\n",
    "**Entropy** is a measure of uncertainty of a probability distribution\n",
    "\n",
    "**$H = -\\sum \\limits_{i=1}^{N} p_{i} * log_{2}p_{i}$**\n",
    "\n",
    "Example:\n",
    "* $log_{2}(0)$ is undefined but multiplied by 0 we assume is 0\n",
    "* Row 2 = $-(0.2log_{2}(0.2) + 0.6log_{2}(0.6) + 0.0log_{2}(0.0) + 0.2log_{2}(0.2)) =1.371$\n",
    "* Row 12 = $-(0.0log_{2}(0.0) + 0.6log_{2}(0.6) + 0.0log_{2}(0.0) + 0.4log_{2}(0.4)) =0.971$\n",
    "\n",
    "Minimum Entropy = 0, where all nucleotides are completely conserved\n",
    "Maximum Entropy = 2, where all probabilities are 1/4\n",
    "\n",
    "The more conserved = the smaller the entropy\n",
    "\n",
    "Instead of exploring all Motifs in Dna and deriving the consensus string from Motifs afterwards. We can explore all potential k-mer consensus strings first and then find the best possible collection Motifs for each consensus string.\n",
    "\n",
    "**Median String Problem**\n",
    "\n",
    "Double minimization problem, we must find a k-mer Pattern that minimizes d(Pattern, Dna) where this function itself is computed by taking a minimum over all choices of k-mers from each string in Dna.\n"
   ]
  },
  {
   "cell_type": "code",
   "execution_count": 83,
   "metadata": {},
   "outputs": [
    {
     "name": "stdout",
     "output_type": "stream",
     "text": [
      "34\n"
     ]
    }
   ],
   "source": [
    "# Distance between Pattern and Strings\n",
    "# Input: A string Pattern and collection of strings Dna\n",
    "# Output: d(Pattern, Dna)\n",
    "\n",
    "def distPatString(Pattern, Dna):\n",
    "    k = len(Pattern)\n",
    "    dist = 0\n",
    "    for string in Dna:\n",
    "        hamDist = float('inf')\n",
    "        for i in range(len(string) - len(Pattern) + 1):\n",
    "            tmp = hammDist(Pattern, string[i:i+len(Pattern)])\n",
    "            if hamDist > tmp:\n",
    "                hamDist = tmp\n",
    "        dist += hamDist\n",
    "    return dist\n",
    "\n",
    "# pat = 'AAA'\n",
    "# Dna = ['TTACCTTAAC', 'GATATCTGTC', 'ACGGCGTTCG', 'CCCTAAAGAG', 'CGTCAGAGGT']\n",
    "# print(distPatString(pat, Dna))\n",
    "\n",
    "with open(\"./Data/dataset_5164_1.txt\") as inFile:\n",
    "    data = inFile.readlines()\n",
    "\n",
    "Dna = data[1].strip().split(\" \")\n",
    "print(distPatString(data[0].strip(), Dna))"
   ]
  },
  {
   "cell_type": "code",
   "execution_count": 87,
   "metadata": {},
   "outputs": [
    {
     "name": "stdout",
     "output_type": "stream",
     "text": [
      "GGGAAA\n"
     ]
    }
   ],
   "source": [
    "# Median String Problem\n",
    "\n",
    "def medString(Dna, k, candidates=False):\n",
    "    dist = float('inf')\n",
    "    cans = []\n",
    "    for i in range((4 ** k) - 1):\n",
    "        pat = numToPat(i, k)\n",
    "        cDist = distPatString(pat, Dna)\n",
    "        if dist > cDist:\n",
    "            dist = cDist\n",
    "            med = pat\n",
    "            cans = [med]\n",
    "        elif dist == cDist:\n",
    "            cans.append(pat)\n",
    "    if candidates:\n",
    "        print(cans)\n",
    "    return med\n",
    "\n",
    "# k = 3\n",
    "# Dna = ['AAATTGACGCAT', 'GACGACCACGTT', 'CGTCAGCGCCTG', 'GCTGAGCACCGG', 'AGTTCGGGACAG']\n",
    "# print(medString(Dna, k))\n",
    "\n",
    "with open(\"./Data/dataset_158_9.txt\") as inFile:\n",
    "    data = inFile.readlines()\n",
    "\n",
    "k = int(data[0].strip())\n",
    "dna = []\n",
    "for i in range(1, len(data)):\n",
    "    dna.append(data[i].strip())\n",
    "print(medString(dna,k))"
   ]
  },
  {
   "cell_type": "markdown",
   "metadata": {},
   "source": [
    "The median string function works well enough, yet still has a runtime of $O(4^k \\times n \\times k \\times t)$ for larger values of k this solution may be too slow.\n",
    "\n",
    "**Greedy Algorithms**\n",
    "\n",
    "Chooses most attractive alternative at each iteration, optimization occurs over each iteration not globally"
   ]
  },
  {
   "cell_type": "code",
   "execution_count": 4,
   "metadata": {},
   "outputs": [
    {
     "name": "stdout",
     "output_type": "stream",
     "text": [
      "AACTCCAGGTCA\n"
     ]
    }
   ],
   "source": [
    "# Profile-most Probable k-mer Problem\n",
    "# Inputs: A string Text, integer k, and a 4 x k matrix Profile\n",
    "# Output: A Profile-most k-mer in text\n",
    "\n",
    "def profile(Text, k, Profile):\n",
    "    profMax = 0.0\n",
    "    kmerMax = Text[:k]\n",
    "    for i in range(len(Text) - k + 1):\n",
    "        kmer = Text[i:i+k]\n",
    "        tProf = 1.0\n",
    "        for x in range(k):\n",
    "            tProf *= Profile[symToNum(kmer[x])][x]\n",
    "        if tProf > profMax:\n",
    "            profMax = tProf\n",
    "            kmerMax = kmer\n",
    "    return kmerMax\n",
    "\n",
    "# prof = [[0.2, 0.2, 0.3, 0.2, 0.3], [0.4, 0.3, 0.1, 0.5, 0.1], [0.3, 0.3, 0.5, 0.2, 0.4], [0.1, 0.2, 0.1, 0.1, 0.2]]\n",
    "# print(profile(\"ACCTGTTTATTGCCTAAGTTCCGAACAAACCCAATATAGCCCGAGGGCCT\", 5, prof))\n",
    "\n",
    "with open(\"./Data/dataset_159_3.txt\") as inFile:\n",
    "    data = inFile.readlines()\n",
    "\n",
    "text = data[0].strip()\n",
    "k = int(data[1].strip())\n",
    "prof = []\n",
    "for i in range(2,len(data)):\n",
    "    prof.append([float(x) for x in data[i].strip().split(\" \")])\n",
    "\n",
    "print(profile(text, k, prof))"
   ]
  },
  {
   "cell_type": "code",
   "execution_count": 27,
   "metadata": {},
   "outputs": [
    {
     "name": "stdout",
     "output_type": "stream",
     "text": [
      "K: 12\n",
      "T: 25\n",
      "\n",
      "CGAGATGATGTT CGATACGATTTC CGAAATGATATT CGACAGGATCTT CGAGAGGATGTG CGATATGATGTA CGATAAGATCTA CGATACGATGTA CGAGATGATTTT CGAAACGATATG CGAAACGATGTC CGACAGGATGTA CGAGAGGATGTC CGACATGATGTG CGAAACGATTTA CGACAAGATTTA CGAAAAGATATG CGAAACGATGTT CGAGATGATATA CGAGAGGATATA CGAGAAGATGTG CGACAAGATCTT CGAAACGATCTA CGACAAGATCTC CGAGATGATTTC\n"
     ]
    }
   ],
   "source": [
    "# Greedy Motif Search\n",
    "\n",
    "def makeProfile(Dna, pseudocounts=False):\n",
    "    prof = [[0] * len(Dna[0]) for _ in range(4)]\n",
    "    for string in Dna:\n",
    "        for i in range(len(string)):\n",
    "            prof[symToNum(string[i])][i] += 1\n",
    "    if pseudocounts:\n",
    "        return [[(x+1)/(len(Dna) + 4) for x in i] for i in prof]\n",
    "    else:\n",
    "        return [[x/len(Dna) for x in i] for i in prof]\n",
    "\n",
    "def makeCon(prof):\n",
    "    con = ''\n",
    "    test = list(zip(*prof))\n",
    "    for pos in test:\n",
    "        con += numToSym(pos.index(max(pos)))\n",
    "    return con\n",
    "\n",
    "def score(motifs, pCounts):\n",
    "    prof = makeProfile(motifs, pCounts)\n",
    "    con = makeCon(prof)\n",
    "    score = [hammDist(con, x) for x in motifs]\n",
    "    return sum(score)\n",
    "\n",
    "def greedyMotif(Dna, k, t, pCounts=False):\n",
    "    bestMotifs = [x[0:k] for x in Dna]\n",
    "    bestScore = score(bestMotifs, pCounts)\n",
    "    for i in range(len(Dna[0]) - k + 1):\n",
    "        tMotif = [Dna[0][i:i+k]]\n",
    "        for x in range(1,t):\n",
    "            prof = makeProfile(tMotif, pCounts)\n",
    "            tMotif.append(profile(Dna[x], k, prof))\n",
    "        tScore = score(tMotif, pCounts)\n",
    "        if tScore < bestScore:\n",
    "            bestMotifs = tMotif\n",
    "            bestScore = tScore\n",
    "    return bestMotifs\n",
    "    \n",
    "# dna = ['GGCGTTCAGGCA', 'AAGAATCAGTCA', 'CAAGGAGTTCGC', 'CACGTCAATCAC', 'CAATAATATTCG']\n",
    "# print(*greedyMotif(dna, 3, 5, True), sep=\" \")\n",
    "\n",
    "# with open(\"./Data/dataset_159_5.txt\") as inFile:\n",
    "with open(\"./Data/dataset_160_9.txt\") as inFile:\n",
    "    data = inFile.readlines()\n",
    "    \n",
    "args = data[0].strip().split(\" \")\n",
    "k = int(args[0])\n",
    "t = int(args[1])\n",
    "dna = []\n",
    "for i in range(1, len(data)):\n",
    "    dna.append(data[i].strip())\n",
    "print(f\"K: {k}\\nT: {t}\\n\")\n",
    "print(*greedyMotif(dna, k, t, True), sep=\" \")"
   ]
  },
  {
   "cell_type": "code",
   "execution_count": 89,
   "metadata": {},
   "outputs": [
    {
     "name": "stdout",
     "output_type": "stream",
     "text": [
      "['AATCCTA', 'GAACCAC', 'GTAGGAA', 'TAGTTTC']\n"
     ]
    },
    {
     "data": {
      "text/plain": [
       "'AATCCTA'"
      ]
     },
     "execution_count": 89,
     "metadata": {},
     "output_type": "execute_result"
    }
   ],
   "source": [
    "# Week 3 Quiz\n",
    "test = ['CTCGATGAGTAGGAAAGTAGTTTCACTGGGCGAACCACCCCGGCGCTAATCCTAGTGCCC', 'GCAATCCTACCCGAGGCCACATATCAGTAGGAACTAGAACCACCACGGGTGGCTAGTTTC', 'GGTGTTGAACCACGGGGTTAGTTTCATCTATTGTAGGAATCGGCTTCAAATCCTACACAG']\n",
    "medString(test, 7, candidates=True)"
   ]
  }
 ],
 "metadata": {
  "kernelspec": {
   "display_name": "Python 3",
   "language": "python",
   "name": "python3"
  },
  "language_info": {
   "codemirror_mode": {
    "name": "ipython",
    "version": 3
   },
   "file_extension": ".py",
   "mimetype": "text/x-python",
   "name": "python",
   "nbconvert_exporter": "python",
   "pygments_lexer": "ipython3",
   "version": "3.7.7"
  }
 },
 "nbformat": 4,
 "nbformat_minor": 4
}
