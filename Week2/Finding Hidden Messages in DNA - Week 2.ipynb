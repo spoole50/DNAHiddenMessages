{
 "cells": [
  {
   "cell_type": "markdown",
   "metadata": {},
   "source": [
    "# Finding Hidden Messages in DNA\n",
    "## Week2\n",
    "\n",
    "**Replication process in more detail:**<br/>\n",
    "Replication occurs on two complementary DNA strands running in opposite directions, starting at ori. As the strands unwind they create two replication forks, that expand in both directions around the chromosome until complete separation at replication terminus (ter). This process is mediated by DNA polymerase (DNA pol) a unidirectional enzyme that can traverse a template DNA strand in only the 3'-5' direction.<br/><br/>\n",
    "Knowing this we can think of the replication task occurring on 4 half-strands of DNA (2 reverse and 2 forward half-strand)\n",
    "* The two forward (lagging) half-strands are traversed from ori to ter in the 5'-3' direction (replication occurs backward toward ori)<br/>DNA pol must wait for the replication fork to open, then a new primer is formed and replication begins back toward ori forming fragments called Okazaki fragments.\n",
    "* The two reverse (leading) half-strands are traversed from ori to ter in the 3'-5' direction (replication can occur non-stop)\n",
    "\n",
    "When replication is complete there are still gaps between the fragments that must be sewn together by DNA ligase\n",
    "![](http://bioinformaticsalgorithms.com/images/Replication/okazaki.png)"
   ]
  },
  {
   "cell_type": "markdown",
   "metadata": {},
   "source": [
    "Since the reverse (leading) half-strands can be synthesized by a single DNA pol. These strands do not exist in a single stranded state as they are unwound for very long. The forward (lagging) strands however, having to wait for the replication fork to extend and requiring many DNA pol, spends much of its life in a single stranded state. Single stranded DNA is less stable and susceptible to greater mutation rate, specifically cytosine (C) -> Thymine (T) deamination (100 fold increase). <br/><br/>\n",
    "Can we take advantage of this to locate ori?<br/>\n",
    "Since the difference between the total amount of guanine (G) and total cytosine (C) is negative on the reverse half-strand and positive on the forward half-strand. We can traverse the genome, keeping a running total of the difference between the G-C by utilizing a skew diagram. As we move through the genome starting from an arbitrary position and a skew of 0 we add 1 for every G and subtract one for every C. Based on the greater stability of double stranded DNA we expect to find a skew minimum at the ori position and a skew maximum near the ter position."
   ]
  },
  {
   "cell_type": "code",
   "execution_count": 1,
   "metadata": {},
   "outputs": [
    {
     "name": "stdout",
     "output_type": "stream",
     "text": [
      "0 0 0 0 0 1 1 0 0 1 0 -1 0 0 1 1 2 3 2 1 1 1 0 0 -1 0 0 1 1 2 1 1 1 2 2 2 1 2 2 3 4 5 6 5 6 6 6 6 6 5 6 5 6 7 8 8 7 6 7 7 7\n"
     ]
    }
   ],
   "source": [
    "# Genomic Skew Calculation (G_total - C_total)\n",
    "# Input: String genomic sequence\n",
    "# Output: Integer array where at any i-th position is the total skew at that poision in the genome\n",
    "\n",
    "def skew(seq):\n",
    "    skew = [0]\n",
    "    for i, base in enumerate(seq):\n",
    "        if base == 'G':\n",
    "            skew.append(skew[i] + 1)\n",
    "        elif base == 'C':\n",
    "            skew.append(skew[i] - 1)\n",
    "        else:\n",
    "            skew.append(skew[i])\n",
    "    return skew\n",
    "\n",
    "print(*skew(\"TAAAGACTGCCGAGAGGCCAACACGAGTGCTAGAACGAGGGGCGTAAACGCGGGTCCGAT\"))"
   ]
  },
  {
   "cell_type": "code",
   "execution_count": 2,
   "metadata": {
    "scrolled": true
   },
   "outputs": [
    {
     "name": "stdout",
     "output_type": "stream",
     "text": [
      "3923620 3923621 3923622 3923623\n"
     ]
    }
   ],
   "source": [
    "# Skew Minimum (identifies candidate ori positions)\n",
    "# Inputs: String genomic sequence\n",
    "# Ouput: Integer array containing genomic positons in which the skew is minimized\n",
    "\n",
    "def skewMin(seq):\n",
    "    totSkew = skew(seq)\n",
    "    sMin = min(totSkew)\n",
    "    allMin = []\n",
    "    for i, val in enumerate(totSkew):\n",
    "        if val == sMin:\n",
    "            allMin.append(i)\n",
    "    return allMin\n",
    "\n",
    "#print(skewMin(\"TAAAGACTGCCGAGAGGCCAACACGAGTGCTAGAACGAGGGGCGTAAACGCGGGTCCGAT\"))\n",
    "#with open(\"./Data/dataset_7_6.txt\") as inFile:\n",
    "with open(\"../Week1/Data/E_coli.txt\") as inFile:\n",
    "    data = inFile.readlines()\n",
    "\n",
    "print(*skewMin(data[0].strip()))"
   ]
  },
  {
   "cell_type": "markdown",
   "metadata": {},
   "source": [
    "Now we are able to identify likely ori sites and most common k-mers within that region utilizing the skewMin and frequentWords functions. When utilizing these functions on the E.coli genome we identify possible ori region starting at position 3923620 (minSkew). However no common 9-mers or possible DnaA boxes are identified, why is this? It is important to note that DnaA can bind not only to \"perfect\" DnaA boxes but to slight variations as well.</br>\n",
    "\n",
    "Finding close matches to the \"perfect\" k-mer can be done by calculating the Hamming Distance, which is the the number of mismatches between two sequences."
   ]
  },
  {
   "cell_type": "code",
   "execution_count": 1,
   "metadata": {},
   "outputs": [
    {
     "data": {
      "text/plain": [
       "747"
      ]
     },
     "execution_count": 1,
     "metadata": {},
     "output_type": "execute_result"
    }
   ],
   "source": [
    "# Hamming Distance Problem (hammDist)\n",
    "# Input: Two strings of equal length\n",
    "# Output: Integer distance between the two strings\n",
    "\n",
    "def hammDist(seq1, seq2, d=-1):\n",
    "    dist = 0\n",
    "    if len(seq1) != len(seq2):\n",
    "        return -1\n",
    "    for i in range(len(seq1)):\n",
    "        if seq1[i] != seq2[i]:\n",
    "            dist += 1\n",
    "        if d != -1 and dist > d:\n",
    "            return -1\n",
    "    return dist\n",
    "\n",
    "with open(\"./Data/dataset_9_3.txt\") as inFile:\n",
    "    data = inFile.readlines()\n",
    "    \n",
    "hammDist(data[0].strip(), data[1].strip())"
   ]
  },
  {
   "cell_type": "markdown",
   "metadata": {},
   "source": [
    "Now that we can calculate the Hamming Distance, we can implement an approximate pattern matching algorithm that finds a k-mer and all approximate k-mers within d distance (mismatches). "
   ]
  },
  {
   "cell_type": "code",
   "execution_count": 4,
   "metadata": {},
   "outputs": [
    {
     "name": "stdout",
     "output_type": "stream",
     "text": [
      "11\n"
     ]
    }
   ],
   "source": [
    "# Approximate Pattern Matching Problem (approxPM)\n",
    "# Input: Strings pattern and Text along with integer d\n",
    "# Output: All starting positions where pattern or an approximate pattern with at most d mismatches appears in text\n",
    "\n",
    "def approxPM(pattern, text, d):\n",
    "    res = []\n",
    "    for i in range(len(text) - len(pattern) + 1):\n",
    "        kmer = text[i:i+len(pattern)]\n",
    "        if hammDist(pattern, kmer, d) > -1:\n",
    "            res.append(i)\n",
    "    return res\n",
    "\n",
    "#print(approxPM(\"ATTCTGGA\", \"CGCCCGAATCCAGAACGCATTCCCATATTTCGGGACCACTGGCCTCCACGGTACGGACGTCAATCAAAT\", 3))\n",
    "print(len(approxPM(\"AAAAA\", \"AACAAGCTGATAAACATTTAAAGAG\", 2)))\n",
    "# with open(\"./Data/dataset_9_4.txt\") as inFile:\n",
    "#     data = inFile.readlines()\n",
    "    \n",
    "# print(*approxPM(data[0].strip(), data[1].strip(), int(data[2].strip())))"
   ]
  },
  {
   "cell_type": "markdown",
   "metadata": {},
   "source": [
    "Now we would like to modify the previous algorithm for the frequent words problem. Given strings text and pattern as well as integer d, we would like to count the total number of occurrences of pattern in text with at most d mismatches."
   ]
  },
  {
   "cell_type": "code",
   "execution_count": 5,
   "metadata": {},
   "outputs": [
    {
     "name": "stdout",
     "output_type": "stream",
     "text": [
      "Pattern: TCCAC\n",
      "d: 3\n",
      "132\n"
     ]
    }
   ],
   "source": [
    "# Approximate Pattern Count\n",
    "# Input: Strings pattern and text as well as integer d\n",
    "# Output: Count of patterns found within text with no more than d mismatches\n",
    "\n",
    "def approxPC(pattern, text, d):\n",
    "    count = 0\n",
    "    for i in range(len(text) - len(pattern) + 1):\n",
    "        pat = text[i:i+len(pattern)]\n",
    "        if hammDist(pattern, pat, d) > -1:\n",
    "            count += 1\n",
    "    return count\n",
    "\n",
    "#print(approxPC(\"GAGG\", \"TTTAGAGCCTTCAGAGG\", 2))\n",
    "with open(\"./Data/dataset_9_6.txt\") as inFile:\n",
    "    data = inFile.readlines()\n",
    "\n",
    "pat = data[0].strip()\n",
    "text = data[1].strip()\n",
    "d = int(data[2].strip())\n",
    "print(f\"Pattern: {pat}\\nd: {d}\\n{approxPC(pat, text, d)}\")"
   ]
  },
  {
   "cell_type": "markdown",
   "metadata": {},
   "source": [
    "We are now ready to write an algorithm that will find most frequent k-mer with up to d mismatches within a text. Note that pattern does not need to actually appear as a substring of text"
   ]
  },
  {
   "cell_type": "code",
   "execution_count": 6,
   "metadata": {},
   "outputs": [
    {
     "name": "stdout",
     "output_type": "stream",
     "text": [
      "ACC AAG ACT TCG ACA ACG ATG CCG GCG AGG\n"
     ]
    }
   ],
   "source": [
    "# Find d-neighbors of a string\n",
    "# Input: String pattern and integer d\n",
    "# Output: String array containng the d-neighbors to pattern\n",
    "\n",
    "def neighbors(pattern, d):\n",
    "    nucleos = {'A', 'C', 'G', 'T'}\n",
    "    if d == 0: # if we want an exact match (d=0, no mismatches allowed) just return the pattern\n",
    "        return pattern\n",
    "    if len(pattern) == 1: # if the pattern is just a single nucleotide return the nucleotide set\n",
    "        return nucleos\n",
    "    hood = set()\n",
    "    sufNeighbors = neighbors(pattern[1:], d) # Calculate all neighbors of the pattern suffix\n",
    "    for neighbor in sufNeighbors:\n",
    "        if hammDist(pattern[1:], neighbor) < d:\n",
    "            for nucleotide in nucleos:\n",
    "                hood.add(nucleotide + neighbor)\n",
    "        else:\n",
    "            hood.add(pattern[:1] + neighbor)\n",
    "    return hood\n",
    "\n",
    "print(*neighbors(\"ACG\", 1))\n",
    "\n",
    "# with open(\"./Data/dataset_3014_4.txt\") as inFile:\n",
    "#     data = inFile.readlines()\n",
    "\n",
    "# pattern = data[0].strip()\n",
    "# d = int(data[1].strip())\n",
    "# print(*neighbors(pattern, d))"
   ]
  },
  {
   "cell_type": "code",
   "execution_count": 7,
   "metadata": {},
   "outputs": [],
   "source": [
    "# Helper functions imported from week 1\n",
    "\n",
    "def symToNum(symbol):\n",
    "    symMap = {'A': 0,\n",
    "              'C': 1,\n",
    "              'G': 2,\n",
    "              'T': 3}\n",
    "    return symMap[symbol]\n",
    "\n",
    "def numToSym(num):\n",
    "    numMap = {0: 'A',\n",
    "              1: 'C',\n",
    "              2: 'G',\n",
    "              3: 'T'}\n",
    "    return numMap[num]\n",
    "\n",
    "def numToPat(index, k):\n",
    "    if k == 1:\n",
    "        return numToSym(index)\n",
    "    pfixIndex = int(index / 4)\n",
    "    r = index % 4\n",
    "    sym = numToSym(r)\n",
    "    pfixPattern = numToPat(pfixIndex, k - 1)\n",
    "    return pfixPattern + sym\n",
    "\n",
    "def patToNum(pattern):\n",
    "    if not pattern:\n",
    "        return 0\n",
    "    symbol = pattern[-1]\n",
    "    prefix = pattern[:-1]\n",
    "    return 4 * patToNum(prefix) + symToNum(symbol)\n",
    "\n",
    "def revComp(pattern):\n",
    "    codon = {'A': 'T',\n",
    "             'T': 'A',\n",
    "             'G': 'C',\n",
    "             'C': 'G'}\n",
    "    return ''.join(codon[x] for x in pattern[::-1])"
   ]
  },
  {
   "cell_type": "code",
   "execution_count": 8,
   "metadata": {},
   "outputs": [
    {
     "name": "stdout",
     "output_type": "stream",
     "text": [
      "CCCCCC GGGGGG\n"
     ]
    }
   ],
   "source": [
    "# Frequent Words with Mismatches and Reverse Complements\n",
    "# Input: String text a DNA sequence, integers k and d\n",
    "# Output: All k-mers that maximize count(text, pattern) and revCompCount(text, pattern)\n",
    "\n",
    "def compFreqMisRV(text, k ,d, rev=True):\n",
    "    freqArr = [0] * (4 ** k)\n",
    "    for i in range(len(text) - k + 1):\n",
    "        pattern = text[i:i + k]\n",
    "        hood = neighbors(pattern, d)\n",
    "        for neighbor in hood:\n",
    "            j = patToNum(neighbor)\n",
    "            freqArr[j] += 1\n",
    "        if rev:    \n",
    "            rvPat = revComp(pattern)\n",
    "            rvHood = neighbors(rvPat, d)\n",
    "            for neighbor in rvHood:\n",
    "                j = patToNum(neighbor)\n",
    "                freqArr[j] += 1\n",
    "    res = []\n",
    "    mx = max(freqArr)\n",
    "    for i in range(len(freqArr)):\n",
    "        if freqArr[i] == mx:\n",
    "            res.append(numToPat(i, k))\n",
    "    return res\n",
    "            \n",
    "#compFreqMisRV(\"ACGTTGCATGTCGCATGATGCATGAGAGCT\", 4, 1, True)\n",
    "\n",
    "with open(\"./Data/dataset_9_8.txt\") as inFile:\n",
    "    data = inFile.readlines()\n",
    "\n",
    "text = data[0].strip()\n",
    "nums = data[1].split(' ')\n",
    "\n",
    "k = int(nums[0].strip())\n",
    "d = int(nums[1].strip())\n",
    "\n",
    "print(*compFreqMisRV(text, k, d, True))"
   ]
  },
  {
   "cell_type": "code",
   "execution_count": 13,
   "metadata": {},
   "outputs": [
    {
     "name": "stdout",
     "output_type": "stream",
     "text": [
      "Hamm Distance: 36\n",
      "\n",
      "Max Skew Index: 1\n",
      "\n",
      "Count: 15\n",
      "\n",
      "5-mer 2-neighbors of TGCAT: 31\n",
      "\n"
     ]
    }
   ],
   "source": [
    "#Quiz\n",
    "\n",
    "#Q2\n",
    "print(f\"Hamm Distance: {hammDist('CTACAGCAATACGATCATATGCGGATCCGCAGTGGCCGGTAGACACACGT', 'CTACCCCGCTGCTCAATGACCGGGACTAAAGAGGCGAAGATTATGGTGTG')}\\n\")\n",
    "\n",
    "#Q3\n",
    "skw = skew(\"GATACACTTCCCGAGTAGGTACTG\")\n",
    "print(f\"Max Skew Index: {skw.index(max(skw))}\\n\")\n",
    "\n",
    "#Q4\n",
    "print(f\"Count: {approxPC('CCC', 'CATGCCATTCGCATTGTCCCAGTGA', 2)}\\n\")\n",
    "\n",
    "#Q5\n",
    "hood = compFreqMisRV(\"CCAGTCAATG\", 10, 1, False)\n",
    "print(f\"5-mer 2-neighbors of TGCAT: {len(hood)}\\n\")"
   ]
  },
  {
   "cell_type": "markdown",
   "metadata": {},
   "source": [
    "Putting it all together</br>\n",
    "\n",
    "Find DnaA box in Salmonella enterica"
   ]
  },
  {
   "cell_type": "code",
   "execution_count": 26,
   "metadata": {},
   "outputs": [
    {
     "name": "stdout",
     "output_type": "stream",
     "text": [
      "Sequence Info: >gi|16758993|ref|NC_003198.1| Salmonella enterica subsp. enterica serovar Typhi str. CT18 chromosome, complete genome\n",
      "Sequence Length: 4809037\n",
      "Sequence Begin (pos 0-75): AGAGATTACGTCTGGTTGCAAGAGATCATAACAGGGGAAATTGATTGAAAATAAATATATCGCCAGCAGCACATG\n"
     ]
    }
   ],
   "source": [
    "with open(\"./Data/Salmonella_enterica.txt\") as inFile:\n",
    "    data = inFile.readlines()\n",
    "\n",
    "name = data[0].strip()\n",
    "\n",
    "seq = \"\"\n",
    "for i in range(1, len(data)):\n",
    "    seq += data[i].strip()\n",
    "print(f\"Sequence Info: {name}\\nSequence Length: {len(seq)}\\nSequence Begin (pos 0-75): {seq[:75]}\")"
   ]
  },
  {
   "cell_type": "code",
   "execution_count": 33,
   "metadata": {},
   "outputs": [
    {
     "data": {
      "image/png": "[encoded data removed]",
      "text/plain": [
       "<Figure size 432x288 with 1 Axes>"
      ]
     },
     "metadata": {
      "needs_background": "light"
     },
     "output_type": "display_data"
    }
   ],
   "source": [
    "import matplotlib.pyplot as plt\n",
    "\n",
    "SEskew = skew(seq)\n",
    "\n",
    "plt.xlabel(\"Position\")\n",
    "plt.ylabel(\"Skew\")\n",
    "plt.title(\"Salmonella enterica Genome Skew\")\n",
    "plt.plot([x for x in range(len(SEskew))], SEskew);"
   ]
  },
  {
   "cell_type": "code",
   "execution_count": 34,
   "metadata": {},
   "outputs": [
    {
     "name": "stdout",
     "output_type": "stream",
     "text": [
      "Skew Minimum Positions: [3764856, 3764858]\n",
      "\n"
     ]
    }
   ],
   "source": [
    "SEskewMin = skewMin(seq)\n",
    "print(f\"Skew Minimum Positions: {SEskewMin}\\n\")"
   ]
  },
  {
   "cell_type": "code",
   "execution_count": 35,
   "metadata": {},
   "outputs": [
    {
     "name": "stdout",
     "output_type": "stream",
     "text": [
      "['AGCTTCCGG', 'CCGGAAGCT']\n",
      "\n"
     ]
    }
   ],
   "source": [
    "window = seq[3764856 - 250 : 3764856 + 250]\n",
    "res = compFreqMisRV(window, 9, 1)\n",
    "print(f\"{res}\\n\")"
   ]
  }
 ],
 "metadata": {
  "kernelspec": {
   "display_name": "Python 3",
   "language": "python",
   "name": "python3"
  },
  "language_info": {
   "codemirror_mode": {
    "name": "ipython",
    "version": 3
   },
   "file_extension": ".py",
   "mimetype": "text/x-python",
   "name": "python",
   "nbconvert_exporter": "python",
   "pygments_lexer": "ipython3",
   "version": "3.7.7"
  }
 },
 "nbformat": 4,
 "nbformat_minor": 4
}
